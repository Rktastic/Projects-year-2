{
  "nbformat": 4,
  "nbformat_minor": 0,
  "metadata": {
    "colab": {
      "provenance": [],
      "include_colab_link": true
    },
    "kernelspec": {
      "name": "python3",
      "display_name": "Python 3"
    },
    "language_info": {
      "name": "python"
    }
  },
  "cells": [
    {
      "cell_type": "markdown",
      "metadata": {
        "id": "view-in-github",
        "colab_type": "text"
      },
      "source": [
        "<a href=\"https://colab.research.google.com/github/Rktastic/Projects-year-2/blob/main/Maths_for_AI_II_Year_2_Unit_3_Correlation_and_Regression.ipynb\" target=\"_parent\"><img src=\"https://colab.research.google.com/assets/colab-badge.svg\" alt=\"Open In Colab\"/></a>"
      ]
    },
    {
      "cell_type": "code",
      "execution_count": 1,
      "metadata": {
        "id": "u4D9UjoaVol8"
      },
      "outputs": [],
      "source": [
        "#Example: Accumulated Savings Over Time\n",
        "#Scenario: Suppose we have data on an individual's accumulated savings over a period of weeks.\n",
        "#We want to analyze whether there is a linear relationship between the number of weeks (X-axis) and the savings amount (Y-axis)."
      ]
    },
    {
      "cell_type": "code",
      "source": [
        "#Scatter Plot Analysis\n",
        "#Firstly, we create a scatter plot to visually inspect the relationship:\n",
        "import matplotlib.pyplot as plt\n",
        "import numpy as np\n",
        "\n",
        "# Example data: Weeks vs. Accumulated Savings\n",
        "weeks = np.array([1, 2, 3, 4, 5, 6, 7, 8, 9, 10])\n",
        "savings = np.array([400, 707, 950, 1203, 1530, 1805, 2100, 2420, 2735, 3050])\n",
        "\n",
        "# Scatter plot\n",
        "plt.figure(figsize=(8, 6))\n",
        "plt.scatter(weeks, savings, color='blue')\n",
        "plt.xlabel('Weeks')\n",
        "plt.ylabel('Accumulated Savings ($)')\n",
        "plt.title('Accumulated Savings Over Time')\n",
        "plt.grid(True)\n",
        "plt.show()\n"
      ],
      "metadata": {
        "colab": {
          "base_uri": "https://localhost:8080/",
          "height": 564
        },
        "id": "NpGRbCyoWoNM",
        "outputId": "c2e81fce-44c8-4e14-8b04-9195aeeaec16"
      },
      "execution_count": 2,
      "outputs": [
        {
          "output_type": "display_data",
          "data": {
            "text/plain": [
              "<Figure size 800x600 with 1 Axes>"
            ],
            "image/png": "[encoded data removed]"
          },
          "metadata": {}
        }
      ]
    },
    {
      "cell_type": "code",
      "source": [
        "#Next, we calculate the correlation coefficient r\n",
        "#to quantify the strength and direction of the\n",
        "#linear relationship between weeks and accumulated savings:\n",
        "# Calculate correlation coefficient\n",
        "correlation_coef = np.corrcoef(weeks, savings)[0, 1]\n",
        "print(f'Correlation Coefficient (r): {correlation_coef:.2f}')\n",
        "\n"
      ],
      "metadata": {
        "colab": {
          "base_uri": "https://localhost:8080/"
        },
        "id": "zlFlFE6wWxBj",
        "outputId": "6b8782bd-8b72-484e-8875-169581ea33b7"
      },
      "execution_count": 3,
      "outputs": [
        {
          "output_type": "stream",
          "name": "stdout",
          "text": [
            "Correlation Coefficient (r): 1.00\n"
          ]
        }
      ]
    },
    {
      "cell_type": "code",
      "source": [
        "#Simple Linear Regression\n",
        "#Now, let's perform simple linear regression\n",
        "#to model the relationship between weeks and accumulated savings:\n",
        "from sklearn.linear_model import LinearRegression\n",
        "\n",
        "# Reshape data for sklearn\n",
        "X = weeks.reshape(-1, 1)\n",
        "y = savings\n",
        "\n",
        "# Create and fit the model\n",
        "model = LinearRegression()\n",
        "model.fit(X, y)\n",
        "\n",
        "# Extracting model parameters\n",
        "intercept = model.intercept_\n",
        "slope = model.coef_[0]\n",
        "\n",
        "print(f'Intercept (b0): {intercept:.2f}')\n",
        "print(f'Slope (b1): {slope:.2f}')\n"
      ],
      "metadata": {
        "colab": {
          "base_uri": "https://localhost:8080/"
        },
        "id": "ubvp_39RXBJy",
        "outputId": "24e59123-c910-4bfc-a4c8-8c37e614ee5a"
      },
      "execution_count": 4,
      "outputs": [
        {
          "output_type": "stream",
          "name": "stdout",
          "text": [
            "Intercept (b0): 77.93\n",
            "Slope (b1): 293.10\n"
          ]
        }
      ]
    },
    {
      "cell_type": "code",
      "source": [
        "#If we want to predict the savings after 5 weeks:\n",
        "weeks_pred = 5\n",
        "savings_pred = model.predict([[weeks_pred]])[0]\n",
        "\n",
        "print(f'Predicted Savings after {weeks_pred} weeks: ${savings_pred:.2f}')\n"
      ],
      "metadata": {
        "colab": {
          "base_uri": "https://localhost:8080/"
        },
        "id": "PRNdemhRXKXK",
        "outputId": "d25db0a0-6c5d-4c42-8dbd-06d64c1f2564"
      },
      "execution_count": 5,
      "outputs": [
        {
          "output_type": "stream",
          "name": "stdout",
          "text": [
            "Predicted Savings after 5 weeks: $1543.45\n"
          ]
        }
      ]
    }
  ]
}